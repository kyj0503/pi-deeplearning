{
 "cells": [
  {
<<<<<<< HEAD
   "cell_type": "markdown",
   "id": "12c2d2bf-4f2e-4906-8e37-45fe607e39ad",
   "metadata": {},
   "source": [
    "# 내용 : 하이퍼파라미터를 튜닝하고, 신경망 구조를 변경하여 훈련/테스트 정확도를 높여라\n",
    "\r\n",
    "# 소스코드 : 오차역전파법 TwoLayerNet (p182 ~ p187 ) 이 \r\n",
    "\r\n",
    "# 조 : \r\n",
    "\r\n",
    "   반복 횟수는 1000 번  \r\n",
    "\r\n",
    "   learning_rate = ( 0.001 ~ 0.09 사이 ) \r\n",
    "\r\n",
    "   hidden_size = (  5  15 사이 ) \r\n",
    "\r\n",
    "   Affine 계층을 반드시 늘려야 함 (현재 2층이므로 3층 이상, 계층추가는 제한 없음) \r\n",
    "\r\n",
    "% 조건에 해당하지 않는 셋팅을 한 경우 감점 처리 ( 각 -1점, Aff 계층 : -2점) \r\n",
    "\r\n",
    "\r",
    "\r\n",
    "# 점수  할당(총 8점):\r\n",
    "\r\n",
    "   학습한 후에 훈련 정확도와 테스트 정확도가 각각 최소 5% 이상 되도록 함. (6점)  \r\n",
    "\r\n",
    "   정확도가 높으면 높을 수록 보너스 점수 부여 ( 97%대 - +1점, 98%대 - 2점, 99% 이상 - +3점 )   \r\n",
    "\r\n",
    "    학습 진행 사항을 그래프로 그려서 제출 ( 6장 그림 6-9 (p20참조, 제공 스코드 참조 ) (2점)\r\n",
    "\r\n",
    "\r\n",
    "\r\n",
    "# 제출: \r\n",
    "\r\n",
    "GitHub에 소스 코드, PDF 파일 ( 그래프출력 화면 캡쳐 + 정확도 로그 파일 ) 을 업로드 \r\n",
    "\r\n",
    "제출은 Github에 아래와 같은 폴더를 만들고, 제출 시에는 \"Githb 주소 - 이름 or 조원\" 으로 보내주기 바랍니다. \r\n",
    "\r\n",
    "( Pair 하는 학은 반드시 조원 이름을 넣어야 하고, 한 명만 제출해도 됨)\r\n",
    "\r\n",
    "과제 Github 주소 형식 :  https://github.com/AIIntro/HW#1 "
   ]
  },
  {
   "cell_type": "code",
   "execution_count": null,
   "id": "1b88ccf1-faf5-4d7f-93bf-d1cd923e83b1",
=======
   "cell_type": "code",
   "execution_count": null,
>>>>>>> 0b233f790a10cf3586ef1db9eac950ed52d462f3
   "metadata": {},
   "outputs": [],
   "source": []
  }
 ],
 "metadata": {
  "kernelspec": {
<<<<<<< HEAD
   "display_name": "Python 3 (ipykernel)",
=======
   "display_name": "base",
>>>>>>> 0b233f790a10cf3586ef1db9eac950ed52d462f3
   "language": "python",
   "name": "python3"
  },
  "language_info": {
<<<<<<< HEAD
   "codemirror_mode": {
    "name": "ipython",
    "version": 3
   },
   "file_extension": ".py",
   "mimetype": "text/x-python",
   "name": "python",
   "nbconvert_exporter": "python",
   "pygments_lexer": "ipython3",
=======
   "name": "python",
>>>>>>> 0b233f790a10cf3586ef1db9eac950ed52d462f3
   "version": "3.11.7"
  }
 },
 "nbformat": 4,
<<<<<<< HEAD
 "nbformat_minor": 5
=======
 "nbformat_minor": 2
>>>>>>> 0b233f790a10cf3586ef1db9eac950ed52d462f3
}
